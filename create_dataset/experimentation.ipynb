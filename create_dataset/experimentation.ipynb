{
 "cells": [
  {
   "cell_type": "code",
   "execution_count": null,
   "id": "8a13bf87-bd61-41c7-b013-bcd82488dff7",
   "metadata": {},
   "outputs": [],
   "source": [
    "import os\n",
    "import sys\n",
    "sys.path.insert(0, os.path.abspath(os.path.dirname(os.path.abspath(\"\"))))\n",
    "\n",
    "import json\n",
    "import utils as common_utils\n",
    "import random\n",
    "import logging\n",
    "import create_dataset.utils as utils\n",
    "import create_dataset.break_code.v1 as break_code_v1\n",
    "import create_dataset.break_code.v2 as break_code_v2\n",
    "from dotenv import load_dotenv\n",
    "from pathlib import Path"
   ]
  },
  {
   "cell_type": "code",
   "execution_count": null,
   "id": "fd1b5260-5009-43fa-85f2-69d7ed34ea91",
   "metadata": {},
   "outputs": [],
   "source": [
    "load_dotenv()"
   ]
  },
  {
   "cell_type": "code",
   "execution_count": null,
   "id": "1f90393c-884e-41f2-b12e-14c367c08228",
   "metadata": {},
   "outputs": [],
   "source": [
    "nixpkgs = os.getenv(\"NIXPKGS\")\n",
    "assert nixpkgs, \"You need to define the environment variable NIXPKGS as the file path to a checkout of Nixpkgs\"\n",
    "nixpkgs = Path(nixpkgs)\n",
    "assert nixpkgs.is_dir()\n",
    "print(f\"Using Nixpkgs checkout at {nixpkgs}\")"
   ]
  },
  {
   "cell_type": "code",
   "execution_count": null,
   "id": "5affdcd9-d5da-44b9-8807-c27b5e12c174",
   "metadata": {},
   "outputs": [],
   "source": [
    "db = utils.DB(\"dataset.db\")"
   ]
  },
  {
   "cell_type": "code",
   "execution_count": null,
   "id": "52b8a4bb-9550-4d52-aac5-045bdb05a537",
   "metadata": {},
   "outputs": [],
   "source": [
    "utils.reset_nixpkgs_git(nixpkgs)"
   ]
  },
  {
   "cell_type": "code",
   "execution_count": null,
   "id": "816a4f27-ba49-410c-9ac7-b0c989fefc50",
   "metadata": {},
   "outputs": [],
   "source": [
    "nixpkgs_rev_str = utils.read_nixpkgs_rev(nixpkgs)"
   ]
  },
  {
   "cell_type": "code",
   "execution_count": null,
   "id": "80b858c6-91f0-4ea0-8d0d-fd8c7d24cf5e",
   "metadata": {},
   "outputs": [],
   "source": [
    "nixpkgs_rev_bin = utils.nixpkgs_rev_str_to_bin(nixpkgs_rev_str)"
   ]
  },
  {
   "cell_type": "code",
   "execution_count": null,
   "id": "d5dbdcbe-ab32-49ec-a09f-3988b7078123",
   "metadata": {},
   "outputs": [],
   "source": [
    "packages = utils.get_all_pkgs_cached(db, nixpkgs_rev_bin, nixpkgs)"
   ]
  },
  {
   "cell_type": "markdown",
   "id": "dd8c5565-4e87-41a1-b8ae-ec84b497ad49",
   "metadata": {},
   "source": [
    "Metadata for every package:\n",
    "- Package name\n",
    "- Package attribute path\n",
    "- File path\n",
    "- Nixpkgs revision\n",
    "- Platform\n",
    "- Code before\n",
    "- Code after\n",
    "- Error message"
   ]
  },
  {
   "cell_type": "markdown",
   "id": "01d97232-18ac-4194-b1e8-7cf00e901fbd",
   "metadata": {},
   "source": [
    "TODO:\n",
    "- Think about garbage collection\n",
    "- Parse code to allow more intelligently modifying it\n",
    "- Post-Process the data:\n",
    "    - Reduce the amout of examples with syntax errors\n",
    "    - If a single file is being edited many times, perhaps the file path is not accurate and we should ignore this"
   ]
  },
  {
   "cell_type": "code",
   "execution_count": null,
   "id": "2a9b08bd-9a19-4871-b8a5-6e47a36f9ab3",
   "metadata": {},
   "outputs": [],
   "source": [
    "print(f\"There are {len(packages)} packages\")"
   ]
  },
  {
   "cell_type": "markdown",
   "id": "69ad8a20-9c44-4375-8fde-4c41eeffc947",
   "metadata": {},
   "source": [
    "### Find a random package in Nixpkgs"
   ]
  },
  {
   "cell_type": "code",
   "execution_count": null,
   "id": "47699266-e8a7-4edd-a6b0-381b6db1b8e2",
   "metadata": {},
   "outputs": [],
   "source": [
    "package_list = tuple(packages.keys()) # tuple() is needed because random.choice() cannot handle dict_keys\n",
    "random_package_attr = random.choice(package_list)\n",
    "print(f\"Random package: {random_package_attr}\")"
   ]
  },
  {
   "cell_type": "code",
   "execution_count": null,
   "id": "d55580ee-3b44-497d-847f-d1eb07cd71d2",
   "metadata": {},
   "outputs": [],
   "source": [
    "package_metadata = utils.extract_metadata(nixpkgs, random_package_attr, packages[random_package_attr])"
   ]
  },
  {
   "cell_type": "code",
   "execution_count": null,
   "id": "4cd76744-b24b-4692-8796-be5a88eebdb3",
   "metadata": {},
   "outputs": [],
   "source": [
    "package_metadata"
   ]
  },
  {
   "cell_type": "code",
   "execution_count": null,
   "id": "e1f29d9b-82df-433b-8755-3eadb9a8d392",
   "metadata": {},
   "outputs": [],
   "source": [
    "# Check that it still compiles\n",
    "(build_result, compile_time_ns) = utils.nix_build(nixpkgs, package_metadata)\n",
    "\n",
    "if build_result.returncode != 0:\n",
    "    raise Exception(\"The package does not currently compile!\")\n",
    "    # TODO: pick another package"
   ]
  },
  {
   "cell_type": "code",
   "execution_count": null,
   "id": "29b594f0-f8f6-4137-8194-fa624c5d8d27",
   "metadata": {},
   "outputs": [],
   "source": [
    "nix_code = utils.read_nix_code(nixpkgs, package_metadata)\n",
    "#print(nix_code)"
   ]
  },
  {
   "cell_type": "code",
   "execution_count": null,
   "id": "ef5b16e5-ffc9-48aa-b915-bd25bbf311ca",
   "metadata": {},
   "outputs": [],
   "source": [
    "code_breaking_algorithm = 2\n",
    "\n",
    "match code_breaking_algorithm:\n",
    "    case 1:\n",
    "        broken_nix_code = break_code_v1.execute(nix_code)\n",
    "    case 2:\n",
    "        broken_nix_code = break_code_v2.execute(nix_code)\n",
    "    case _:\n",
    "        raise Exception(f\"Invalid code_breaking_algorithm: {code_breaking_algorithm}\")\n"
   ]
  },
  {
   "cell_type": "code",
   "execution_count": null,
   "id": "eb9c5acf-8605-4766-a65e-d2dd22f4614a",
   "metadata": {},
   "outputs": [],
   "source": [
    "utils.write_nix_code(nixpkgs, package_metadata, broken_nix_code)"
   ]
  },
  {
   "cell_type": "code",
   "execution_count": null,
   "id": "a411fc2d-4db6-45b2-961c-26759617ac2c",
   "metadata": {},
   "outputs": [],
   "source": [
    "# Try to compile the package and get the error message\n",
    "(build_result, compile_time_ns) = utils.nix_build(nixpkgs, package_metadata)\n",
    "\n",
    "if build_result.returncode == 0:\n",
    "    raise Exception(f\"We did not manage to break the code\")\n",
    "\n",
    "print(\"The nix-build command failed, let's see what the error was.\")\n",
    "error_message = common_utils.parse_error_from_nix_output(build_result.stderr)\n",
    "print(error_message)"
   ]
  },
  {
   "cell_type": "code",
   "execution_count": null,
   "id": "7e98d037-64fc-4a43-a71c-e269c0255dc9",
   "metadata": {},
   "outputs": [],
   "source": [
    "#import importlib\n",
    "#importlib.reload(utils)"
   ]
  },
  {
   "cell_type": "code",
   "execution_count": null,
   "id": "0e876e64-5754-403e-a698-0283682f4b7c",
   "metadata": {},
   "outputs": [],
   "source": [
    "\"\"\"\n",
    "for a in build_result.stderr.splitlines():\n",
    "    a = a.lstrip(\"@nix \")\n",
    "    b = json.loads(a)\n",
    "    if b[\"action\"] != \"msg\":\n",
    "        continue\n",
    "    print(b)\n",
    "    print(b[\"msg\"])\n",
    "    print(b[\"raw_msg\"])\n",
    "\"\"\""
   ]
  },
  {
   "cell_type": "code",
   "execution_count": null,
   "id": "599927e7-cced-40bb-9d80-de8e10545e99",
   "metadata": {},
   "outputs": [],
   "source": [
    "results = (package_metadata, nixpkgs_rev_bin, code_breaking_algorithm, nix_code, broken_nix_code, build_result.stderr, error_message, compile_time_ns)\n",
    "db.save_to_dataset(results)"
   ]
  }
 ],
 "metadata": {
  "language_info": {
   "name": "python"
  }
 },
 "nbformat": 4,
 "nbformat_minor": 5
}
