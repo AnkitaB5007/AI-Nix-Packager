{
 "cells": [
  {
   "cell_type": "code",
   "execution_count": null,
   "metadata": {},
   "outputs": [],
   "source": [
    "# Imports\n",
    "import os\n",
    "import re\n",
    "import json\n",
    "import subprocess\n",
    "from pathlib import Path"
   ]
  },
  {
   "cell_type": "markdown",
   "metadata": {},
   "source": [
    "### Prepare a new Git repository"
   ]
  },
  {
   "cell_type": "code",
   "execution_count": null,
   "metadata": {},
   "outputs": [],
   "source": [
    "dirname = Path(\"output\")"
   ]
  },
  {
   "cell_type": "code",
   "execution_count": null,
   "metadata": {},
   "outputs": [],
   "source": [
    "dirname.mkdir(parents=True, exist_ok=True)"
   ]
  },
  {
   "cell_type": "code",
   "execution_count": null,
   "metadata": {},
   "outputs": [],
   "source": [
    "# Make Git ignore the global configuration files\n",
    "os.environ['GIT_CONFIG_SYSTEM'] = \"/dev/null\"\n",
    "os.environ['GIT_CONFIG_GLOBAL'] = \"/dev/null\""
   ]
  },
  {
   "cell_type": "code",
   "execution_count": null,
   "metadata": {},
   "outputs": [],
   "source": [
    "subprocess.run((\"git\", \"init\", \"--initial-branch=main\"), cwd=dirname, check=True)"
   ]
  },
  {
   "cell_type": "code",
   "execution_count": null,
   "metadata": {},
   "outputs": [],
   "source": [
    "_ = subprocess.run((\"git\", \"config\", \"user.name\", \"AI-Nix-Packager\"), cwd=dirname, check=True)\n",
    "_ = subprocess.run((\"git\", \"config\", \"user.email\", \"\"), cwd=dirname, check=True)"
   ]
  },
  {
   "cell_type": "markdown",
   "metadata": {},
   "source": [
    "### Initialize a new Git branch"
   ]
  },
  {
   "cell_type": "code",
   "execution_count": null,
   "metadata": {},
   "outputs": [],
   "source": [
    "# TODO: don't hardcode\n",
    "#project_name = \"findtow\" # https://git.sr.ht/~martijnbraam/findtow\n",
    "#project_name = \"gResistor\" # https://github.com/stethewwolf/gResistor\n",
    "project_name = \"postmarketos-tweaks\" # https://gitlab.postmarketos.org/postmarketOS/postmarketos-tweaks"
   ]
  },
  {
   "cell_type": "code",
   "execution_count": null,
   "metadata": {},
   "outputs": [],
   "source": [
    "_ = subprocess.run((\"git\", \"checkout\", \"--orphan\", project_name), cwd=dirname, check=True)\n",
    "_ = subprocess.run((\"git\", \"rm\", \"-rf\", \".\"), cwd=dirname, check=False) # Ignore failures that happen when there are no files"
   ]
  },
  {
   "cell_type": "markdown",
   "metadata": {},
   "source": [
    "### Generate the default.nix file using nix-init"
   ]
  },
  {
   "cell_type": "code",
   "execution_count": null,
   "metadata": {},
   "outputs": [],
   "source": [
    "# Now please run nix-init inside of the output directory\n",
    "nix_file = dirname / \"default.nix\"\n",
    "if not os.path.isfile(nix_file):\n",
    "    if not os.path.isfile(\"default.nix\"):\n",
    "        raise Exception(\"default.nix not found, please run nix-init inside of the output directory.\")\n",
    "    else:\n",
    "        raise Exception(\"Make sure to run nix-init inside of the output directory, not inside the root of the project!\")"
   ]
  },
  {
   "cell_type": "code",
   "execution_count": null,
   "metadata": {},
   "outputs": [],
   "source": [
    "def git_commit(message):\n",
    "    subprocess.run((\"git\", \"add\", \"--all\"), cwd=dirname, check=True)\n",
    "    subprocess.run((\"git\", \"commit\", \"-m\", message), cwd=dirname, check=True)"
   ]
  },
  {
   "cell_type": "code",
   "execution_count": null,
   "metadata": {},
   "outputs": [],
   "source": [
    "git_commit(\"Run nix-init\")"
   ]
  },
  {
   "cell_type": "code",
   "execution_count": null,
   "metadata": {},
   "outputs": [],
   "source": [
    "# TODO: run nix-format after every step"
   ]
  },
  {
   "cell_type": "code",
   "execution_count": null,
   "metadata": {},
   "outputs": [],
   "source": [
    "# TODO: pin Nixpkgs revision to the one used by this flake\n",
    "def nix_build():\n",
    "    return subprocess.run(\n",
    "        (\n",
    "            \"nix-build\",\n",
    "            \"--no-out-link\",\n",
    "            \"--log-format\", \"internal-json\",\n",
    "             \"-E\", \"(import <nixpkgs> { }).callPackage ./. { }\"\n",
    "        ),\n",
    "        capture_output=True,\n",
    "        encoding='utf-8',\n",
    "        cwd=dirname,\n",
    "        check=False,\n",
    "        env={\n",
    "            \"PATH\": os.getenv(\"PATH\"),\n",
    "            \"NIX_PATH\": os.getenv(\"NIX_PATH\"),\n",
    "            \"NO_COLOR\": \"\", # TODO: debug Nix why this has no effect when --log-format is internal-json\n",
    "            \"NIXPKGS_ALLOW_UNFREE\": \"1\",\n",
    "        },\n",
    "    )"
   ]
  },
  {
   "cell_type": "code",
   "execution_count": null,
   "metadata": {},
   "outputs": [],
   "source": [
    "build_result = nix_build()"
   ]
  },
  {
   "cell_type": "code",
   "execution_count": null,
   "metadata": {},
   "outputs": [],
   "source": [
    "# Regex from https://stackoverflow.com/a/14693789\n",
    "ansi_escape = re.compile(r'\\x1B(?:[@-Z\\\\-_]|\\[[0-?]*[ -/]*[@-~])')\n",
    "\n",
    "def parse_error_from_nix_output(output):\n",
    "    error_messages = []\n",
    "    for line in output.split(\"\\n\"):\n",
    "        if line == \"\":\n",
    "            continue\n",
    "        prefix = \"@nix \"\n",
    "        assert line.startswith(prefix), f\"Line does not start with @nix : {line}\"\n",
    "        line = line.lstrip(prefix)\n",
    "        parsed = json.loads(line)\n",
    "        assert \"action\" in parsed, f\"Nix JSON output does not have an action key: {parsed}\"\n",
    "        if parsed[\"action\"] != \"msg\":\n",
    "            continue\n",
    "        assert \"msg\" in parsed, f\"Nix JSON output does not have a msg key: {parsed}\"\n",
    "        if parsed[\"msg\"].startswith(\"fetching path input \"):\n",
    "            continue\n",
    "        if \"raw_msg\" in parsed:\n",
    "            error_message = parsed[\"raw_msg\"]\n",
    "            derivation_path_search = re.search('For full logs, run:\\n  nix log (/nix/store/.*.drv)', error_message)\n",
    "            if derivation_path_search:\n",
    "                derivation_path = derivation_path_search.group(1)\n",
    "                # TODO: teach nix log to respect the NO_COLOR environment variable\n",
    "                error_message = subprocess.run((\"nix\", \"log\", derivation_path), capture_output=True, encoding='utf-8', cwd=dirname, check=True).stdout\n",
    "            error_message = ansi_escape.sub('', error_message)\n",
    "            error_messages.append(error_message)\n",
    "    num_error_messages = len(error_messages)\n",
    "    assert num_error_messages == 1, f\"Unexpected number of error messages. Expected 1, found {num_error_messages}\"\n",
    "    return error_messages[0]"
   ]
  },
  {
   "cell_type": "code",
   "execution_count": null,
   "metadata": {},
   "outputs": [],
   "source": [
    "# Analyze and filter output\n",
    "\n",
    "if build_result.returncode == 0:\n",
    "    print(\"The nix-build command succeeded 🎉\")\n",
    "else:\n",
    "    print(\"The nix-build command failed, let's see what the error was.\")\n",
    "    print(build_result.stdout)\n",
    "    error_message = parse_error_from_nix_output(build_result.stderr)\n",
    "    print(error_message)"
   ]
  },
  {
   "cell_type": "code",
   "execution_count": null,
   "metadata": {},
   "outputs": [],
   "source": [
    "# TODO: find instances of the absolute path to the current directory and rewrite them\n",
    "# TODO: special-case errors like evaluation aborted with the following error message:\n",
    "# 'lib.customisation.callPackageWith: Function called without required argument \"libblkid\" at /home/u/Dokumente/repos/RAG-with-Langchain/output/default.nix:8'\n",
    "# to provide some help to the LLM\n",
    "# TODO: validate syntax and help the model if it is wrong\n",
    "# TODO: detect if the model ever outputs the same thing twice and tell the model\n",
    "# TODO: detect if the error message is the same as before and tell the model that the suggestion did not fix the error\n",
    "# TODO: take existing derivations from Nixpkgs and modify them, e.g. by deleting lines. Then fine-tune an LLM with the error messages\n",
    "# TODO: prompt the model to tell if thinks that a dependency is missing and then use something like search.nixos.org but lokal (maybe nix-index) to search for it, then tell the model which dependency to add\n",
    "# TODO: Run multiple different models at each step and compare\n",
    "# TODO: detect changes that the LLM should not make, such as changing the hash and revert them\n",
    "# TODO: if the model does not support reasoning, first ask the model for suggestions on fixing the error, then asking it to implement those suggestions"
   ]
  }
 ],
 "metadata": {
  "language_info": {
   "name": "python"
  }
 },
 "nbformat": 4,
 "nbformat_minor": 4
}
