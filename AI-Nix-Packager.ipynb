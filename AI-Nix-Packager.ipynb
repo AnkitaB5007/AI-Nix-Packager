{
 "cells": [
  {
   "cell_type": "code",
   "execution_count": null,
   "metadata": {},
   "outputs": [],
   "source": [
    "# Imports\n",
    "import os\n",
    "import re\n",
    "import traceback\n",
    "import json\n",
    "import nix_utils, llm_prompts, llm_client\n",
    "import requests\n",
    "import subprocess\n",
    "from typing import Optional, Union, List\n",
    "from pathlib import Path\n",
    "from pydantic import BaseModel"
   ]
  },
  {
   "cell_type": "markdown",
   "metadata": {},
   "source": [
    "### Prepare a new Git repository"
   ]
  },
  {
   "cell_type": "code",
   "execution_count": null,
   "metadata": {},
   "outputs": [],
   "source": [
    "dirname = Path(\"output\")"
   ]
  },
  {
   "cell_type": "code",
   "execution_count": null,
   "metadata": {},
   "outputs": [],
   "source": [
    "dirname.mkdir(parents=True, exist_ok=True)"
   ]
  },
  {
   "cell_type": "code",
   "execution_count": null,
   "metadata": {},
   "outputs": [],
   "source": [
    "# Make Git ignore the global configuration files\n",
    "os.environ['GIT_CONFIG_SYSTEM'] = \"/dev/null\"\n",
    "os.environ['GIT_CONFIG_GLOBAL'] = \"/dev/null\""
   ]
  },
  {
   "cell_type": "code",
   "execution_count": null,
   "metadata": {},
   "outputs": [],
   "source": [
    "subprocess.run((\"git\", \"init\", \"--initial-branch=main\"), cwd=dirname, check=True)"
   ]
  },
  {
   "cell_type": "code",
   "execution_count": null,
   "metadata": {},
   "outputs": [],
   "source": [
    "_ = subprocess.run((\"git\", \"config\", \"user.name\", \"AI-Nix-Packager\"), cwd=dirname, check=True)\n",
    "_ = subprocess.run((\"git\", \"config\", \"user.email\", \"\"), cwd=dirname, check=True)"
   ]
  },
  {
   "cell_type": "markdown",
   "metadata": {},
   "source": [
    "### Initialize a new Git branch"
   ]
  },
  {
   "cell_type": "code",
   "execution_count": null,
   "metadata": {},
   "outputs": [],
   "source": [
    "# TODO: don't hardcode\n",
    "#project_name = \"findtow\" # https://git.sr.ht/~martijnbraam/findtow\n",
    "project_name = \"gResistor\" # https://github.com/stethewwolf/gResistor\n",
    "#project_name = \"postmarketos-tweaks\" # https://gitlab.postmarketos.org/postmarketOS/postmarketos-tweaks"
   ]
  },
  {
   "cell_type": "code",
   "execution_count": null,
   "metadata": {},
   "outputs": [],
   "source": [
    "_ = subprocess.run((\"git\", \"checkout\", \"--orphan\", project_name), cwd=dirname, check=True)\n",
    "_ = subprocess.run((\"git\", \"rm\", \"-rf\", \".\"), cwd=dirname, check=False) # Ignore failures that happen when there are no files"
   ]
  },
  {
   "cell_type": "markdown",
   "metadata": {},
   "source": [
    "### Generate the default.nix file using nix-init"
   ]
  },
  {
   "cell_type": "code",
   "execution_count": null,
   "metadata": {},
   "outputs": [],
   "source": [
    "# Now please run nix-init inside of the output directory\n",
    "nix_file = dirname / \"default.nix\"\n",
    "if not os.path.isfile(nix_file):\n",
    "    if not os.path.isfile(\"default.nix\"):\n",
    "        raise Exception(\"default.nix not found, please run nix-init inside of the output directory.\")\n",
    "    else:\n",
    "        raise Exception(\"Make sure to run nix-init inside of the output directory, not inside the root of the project!\")"
   ]
  },
  {
   "cell_type": "code",
   "execution_count": null,
   "metadata": {},
   "outputs": [],
   "source": [
    "def git_commit(message):\n",
    "    subprocess.run((\"git\", \"add\", \"--all\"), cwd=dirname, check=True)\n",
    "    subprocess.run((\"git\", \"commit\", \"-m\", message), cwd=dirname, check=True)"
   ]
  },
  {
   "cell_type": "code",
   "execution_count": null,
   "metadata": {},
   "outputs": [],
   "source": [
    "git_commit(\"Run nix-init\")"
   ]
  },
  {
   "cell_type": "code",
   "execution_count": null,
   "metadata": {},
   "outputs": [],
   "source": [
    "# TODO: run nix-format after every step"
   ]
  },
  {
   "cell_type": "code",
   "execution_count": null,
   "metadata": {},
   "outputs": [],
   "source": [
    "# TODO: pin Nixpkgs revision to the one used by this flake\n",
    "def nix_build():\n",
    "    return subprocess.run(\n",
    "        (\n",
    "            \"nix-build\",\n",
    "            \"--no-out-link\",\n",
    "            \"--log-format\", \"internal-json\",\n",
    "             \"-E\", \"(import <nixpkgs> { }).callPackage ./. { }\"\n",
    "        ),\n",
    "        capture_output=True,\n",
    "        encoding='utf-8',\n",
    "        cwd=dirname,\n",
    "        check=False,\n",
    "        env={\n",
    "            \"PATH\": os.getenv(\"PATH\"),\n",
    "            \"NIX_PATH\": os.getenv(\"NIX_PATH\"),\n",
    "            \"NO_COLOR\": \"\", # TODO: debug Nix why this has no effect when --log-format is internal-json\n",
    "            \"NIXPKGS_ALLOW_UNFREE\": \"1\",\n",
    "        },\n",
    "    )"
   ]
  },
  {
   "cell_type": "code",
   "execution_count": null,
   "metadata": {},
   "outputs": [],
   "source": [
    "build_result = nix_build()"
   ]
  },
  {
   "cell_type": "code",
   "execution_count": null,
   "metadata": {},
   "outputs": [],
   "source": [
    "# Analyze and filter output\n",
    "\n",
    "if build_result.returncode == 0:\n",
    "    print(\"The nix-build command succeeded 🎉\")\n",
    "else:\n",
    "    print(\"The nix-build command failed, let's see what the error was.\")\n",
    "    print(build_result.stdout)\n",
    "    error_message = utils.parse_error_from_nix_output(build_result.stderr)\n",
    "    print(error_message)"
   ]
  },
  {
   "cell_type": "markdown",
   "metadata": {},
   "source": [
    "### Run the LLM-Debug Loop by providing the default.nix and error.log file"
   ]
  },
  {
   "cell_type": "code",
   "execution_count": null,
   "metadata": {},
   "outputs": [],
   "source": [
    "# TODO: find instances of the absolute path to the current directory and rewrite them\n",
    "# TODO: special-case errors like evaluation aborted with the following error message:\n",
    "# 'lib.customisation.callPackageWith: Function called without required argument \"libblkid\" at /home/u/Dokumente/repos/RAG-with-Langchain/output/default.nix:8'\n",
    "# to provide some help to the LLM\n",
    "# TODO: validate syntax and help the model if it is wrong\n",
    "# TODO: detect if the model ever outputs the same thing twice and tell the model\n",
    "# TODO: detect if the error message is the same as before and tell the model that the suggestion did not fix the error\n",
    "# TODO: take existing derivations from Nixpkgs and modify them, e.g. by deleting lines. Then fine-tune an LLM with the error messages\n",
    "# TODO: prompt the model to tell if thinks that a dependency is missing and then use something like search.nixos.org but lokal (maybe nix-index) to search for it, then tell the model which dependency to add\n",
    "# TODO: Run multiple different models at each step and compare\n",
    "# TODO: detect changes that the LLM should not make, such as changing the hash and revert them\n",
    "# TODO: if the model does not support reasoning, first ask the model for suggestions on fixing the error, then asking it to implement those suggestions"
   ]
  },
  {
   "cell_type": "code",
   "execution_count": null,
   "metadata": {},
   "outputs": [],
   "source": [
    "print(\"Dependencies loaded successfully!\")"
   ]
  },
  {
   "cell_type": "code",
   "execution_count": null,
   "metadata": {},
   "outputs": [],
   "source": [
    "def debug_loop(initial_nix_path: str, max_attempts: int = 1):\n",
    "    attempts = 0\n",
    "    build_succeeded = False\n",
    "    error_message = \"\"\n",
    "\n",
    "    last_error = None\n",
    "    last_fix_code = None\n",
    "    error_history = []\n",
    "    dirname= Path(\"output/\")\n",
    "    while not build_succeeded and attempts < max_attempts:\n",
    "        print(f\"\\n--- Attempt {attempts + 1}/{max_attempts} ---\")\n",
    "\n",
    "        try:\n",
    "            default_nix_content = nix_utils.read_file_content(initial_nix_path)\n",
    "            build_result = nix_utils.nix_build(dirname)\n",
    "\n",
    "            if build_result.returncode == 0:\n",
    "                print(\"The nix-build command succeeded 🎉\")\n",
    "            else:\n",
    "                print(\"The nix-build command failed, let's see what the error was.\")\n",
    "                print(build_result.stdout)\n",
    "                error_message = nix_utils.parse_error_from_nix_output(build_result.stderr)\n",
    "                print(error_message)\n",
    "                # Write the error message to the log file as requested\n",
    "                error_log_path = os.path.join(dirname, \"error.log\")\n",
    "                nix_utils.write_file_content(error_log_path, error_message)\n",
    "                \n",
    "                print(\"Error message parsed and saved to error.log.\")\n",
    "\n",
    "            # Detect hallucination loop\n",
    "            if error_message == last_error and last_fix_code is not None:\n",
    "                print(\"⚠️  Same error as last attempt detected.\")\n",
    "\n",
    "            print(\"\\n--- Getting LLM Fix ---\")\n",
    "            fix_response = llm_client.get_llm_fix(default_nix_content, error_message, error_history)\n",
    "\n",
    "            if fix_response:\n",
    "                if error_message == last_error and fix_response.corrected_nix_code == last_fix_code:\n",
    "                    print(\"🚫 Same error and same fix as last attempt detected. Stopping to avoid hallucination loop.\")\n",
    "                    break\n",
    "\n",
    "                # Apply fix\n",
    "                print(\"\\n--- Applying LLM Fix ---\")\n",
    "                print(\"Explanation:\\n\", fix_response.explanation)\n",
    "                nix_utils.write_file_content(initial_nix_path, fix_response.corrected_nix_code)\n",
    "\n",
    "                # Save attempt in history\n",
    "                error_history.append((error_message, fix_response.corrected_nix_code))\n",
    "                last_error = error_message\n",
    "                last_fix_code = fix_response.corrected_nix_code\n",
    "\n",
    "            else:\n",
    "                print(\"Could not get a fix from the LLM. Stopping.\")\n",
    "                break\n",
    "\n",
    "        except FileNotFoundError as e:\n",
    "            print(f\"Fatal error: {e}. Please ensure the initial Nix file exists.\")\n",
    "            break\n",
    "        except Exception as e:\n",
    "            print(f\"An unexpected error occurred: {e}\")\n",
    "            print(traceback.format_exc())\n",
    "            break\n",
    "\n",
    "        attempts += 1\n",
    "\n",
    "    if not build_succeeded:\n",
    "        print(\"\\n--- Final Status ---\")\n",
    "        print(f\"Failed to fix the Nix file after {max_attempts} attempts.\")\n",
    "        print(\"Please review the 'default.nix' and 'error.log' for more details.\")\n",
    "\n",
    "\n",
    "# --- Call the main function with a mock setup ---\n",
    "if __name__ == \"__main__\":\n",
    "    # Create a directory for the output files\n",
    "    output_dir = \"output\"\n",
    "    os.makedirs(output_dir, exist_ok=True)\n",
    "    \n",
    "    # Start the debugging loop\n",
    "    debug_loop(\"output/default.nix\")"
   ]
  },
  {
   "cell_type": "code",
   "execution_count": null,
   "metadata": {},
   "outputs": [],
   "source": []
  }
 ],
 "metadata": {
  "language_info": {
   "name": "python"
  }
 },
 "nbformat": 4,
 "nbformat_minor": 4
}
