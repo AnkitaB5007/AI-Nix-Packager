{
 "cells": [
  {
   "cell_type": "code",
   "execution_count": 1,
   "metadata": {
    "executionInfo": {
     "elapsed": 919,
     "status": "ok",
     "timestamp": 1748862524594,
     "user": {
      "displayName": "Maithri Rao",
      "userId": "13872893743148841687"
     },
     "user_tz": -120
    },
    "id": "PBkr2MfT0BZ7"
   },
   "outputs": [],
   "source": [
    "#from google.colab import userdata\n",
    "import os\n",
    "#os.environ['OPENAI_API_KEY'] = userdata.get('openAI')"
   ]
  },
  {
   "cell_type": "code",
   "execution_count": 2,
   "metadata": {
    "colab": {
     "base_uri": "https://localhost:8080/"
    },
    "executionInfo": {
     "elapsed": 3806,
     "status": "ok",
     "timestamp": 1748602451762,
     "user": {
      "displayName": "Maithri Rao",
      "userId": "13872893743148841687"
     },
     "user_tz": -120
    },
    "id": "TWQXqAci2QMa",
    "outputId": "ad36a900-1379-4189-f0b8-ea34101b8db7"
   },
   "outputs": [],
   "source": [
    "#!pip install langchain_community langchainhub chromadb langchain langchain_openai"
   ]
  },
  {
   "cell_type": "code",
   "execution_count": 3,
   "metadata": {
    "colab": {
     "base_uri": "https://localhost:8080/",
     "height": 383
    },
    "executionInfo": {
     "elapsed": 56,
     "status": "error",
     "timestamp": 1748862561256,
     "user": {
      "displayName": "Maithri Rao",
      "userId": "13872893743148841687"
     },
     "user_tz": -120
    },
    "id": "KV0DTrSvUbYp",
    "outputId": "85d658c5-772e-4941-aa5c-4961246c4ef0"
   },
   "outputs": [
    {
     "name": "stderr",
     "output_type": "stream",
     "text": [
      "USER_AGENT environment variable not set, consider setting it to identify your requests.\n"
     ]
    },
    {
     "name": "stdout",
     "output_type": "stream",
     "text": [
      "cached Data is found\n"
     ]
    }
   ],
   "source": [
    "from langchain_community.document_loaders import WebBaseLoader\n",
    "from langchain_core.documents import Document\n",
    "import json\n",
    "\n",
    "def scrape_and_cache(url, cache_filepath):\n",
    "  if os.path.exists(cache_filepath):\n",
    "    with open(cache_filepath, 'r') as f:\n",
    "      cached_data = json.load(f)\n",
    "      docs = [Document(page_content=item['page_content'], metadata=item['metadata']) for item in cached_data]\n",
    "      print(\"cached Data is found\")\n",
    "      return docs\n",
    "  else:\n",
    "    print(f\"Caching not found, Scraping from: {url}\")\n",
    "    loader = WebBaseLoader(web_paths=[url]) # edit for the nix page\n",
    "    docs= loader.load()\n",
    "\n",
    "    os.makedirs(os.path.dirname(cache_filepath), exist_ok=True)\n",
    "    serializable_docs = []\n",
    "    for doc in docs:\n",
    "      serializable_docs.append({\n",
    "          'page_content': doc.page_content,\n",
    "          'metadata' : doc.metadata #check if metadatas\n",
    "      })\n",
    "\n",
    "    with open(cache_filepath, 'w') as f:\n",
    "      json.dump(serializable_docs, f, indent=4, ensure_ascii=False)\n",
    "    print(f\"scraped data is cached to: {cache_filepath}\")\n",
    "    return docs\n",
    "\n",
    "\n",
    "web_path = \"https://nixos.org/manual/nixpkgs/stable/\"\n",
    "cache_dir = \"scraped_data_cache\"\n",
    "cache_file = os.path.join(cache_dir, \"nix_docs.json\")\n",
    "docs = scrape_and_cache(web_path, cache_file)"
   ]
  },
  {
   "cell_type": "code",
   "execution_count": 4,
   "metadata": {
    "colab": {
     "background_save": true,
     "base_uri": "https://localhost:8080/"
    },
    "executionInfo": {
     "elapsed": 5848,
     "status": "ok",
     "timestamp": 1748636677146,
     "user": {
      "displayName": "Maithri Rao",
      "userId": "13872893743148841687"
     },
     "user_tz": -120
    },
    "id": "E6_QknXPuQok",
    "outputId": "39c4cdc4-3730-4c6b-90b5-6173e8a2e24f"
   },
   "outputs": [
    {
     "name": "stdout",
     "output_type": "stream",
     "text": [
      "the length of the split is 1736\n"
     ]
    }
   ],
   "source": [
    "from langchain_text_splitters import RecursiveCharacterTextSplitter\n",
    "text_splitter = RecursiveCharacterTextSplitter(\n",
    "    # Set a really small chunk size, just to show.\n",
    "    chunk_size=1000,\n",
    "    chunk_overlap=200,\n",
    "    length_function=len,\n",
    "    is_separator_regex=False,\n",
    ")\n",
    "splits = text_splitter.split_documents(docs)\n",
    "print(\"the length of the split is\", len(splits))\n",
    "#for i in splits:\n",
    "#  print(i)"
   ]
  },
  {
   "cell_type": "code",
   "execution_count": 5,
   "metadata": {
    "id": "ZR73PutKwS1F"
   },
   "outputs": [],
   "source": [
    "# Add docs to vector DB using Chroma DB\n",
    "from langchain_openai import OpenAIEmbeddings\n",
    "# from langchain_ollama import OllamaEmbeddings\n",
    "from langchain.vectorstores import Chroma\n",
    "\n",
    "vectorstore_nix = Chroma.from_documents(documents=splits, embedding=OpenAIEmbeddings())"
   ]
  },
  {
   "cell_type": "code",
   "execution_count": 6,
   "metadata": {
    "colab": {
     "base_uri": "https://localhost:8080/",
     "output_embedded_package_id": "13ioYjlRlo4vvvYEn44zb0jUiB75xM98d"
    },
    "executionInfo": {
     "elapsed": 32565,
     "status": "ok",
     "timestamp": 1748636744976,
     "user": {
      "displayName": "Maithri Rao",
      "userId": "13872893743148841687"
     },
     "user_tz": -120
    },
    "id": "T_oZrpVw6BJk",
    "outputId": "e0007ab4-46b1-4467-8688-49c43f97c37b"
   },
   "outputs": [
    {
     "name": "stdout",
     "output_type": "stream",
     "text": [
      "1736\n"
     ]
    }
   ],
   "source": [
    "print(vectorstore_nix._collection.count())\n",
    "#print(vectorstore_nix._collection.get())"
   ]
  },
  {
   "cell_type": "code",
   "execution_count": 7,
   "metadata": {
    "colab": {
     "base_uri": "https://localhost:8080/"
    },
    "executionInfo": {
     "elapsed": 49,
     "status": "ok",
     "timestamp": 1748637020482,
     "user": {
      "displayName": "Maithri Rao",
      "userId": "13872893743148841687"
     },
     "user_tz": -120
    },
    "id": "XvdwOX--wL3x",
    "outputId": "b852c29b-8106-4376-d07f-588ec1b6e299"
   },
   "outputs": [
    {
     "name": "stdout",
     "output_type": "stream",
     "text": [
      "collection 1 {'ids': [], 'embeddings': array([], dtype=float64), 'documents': [], 'uris': None, 'data': None, 'metadatas': None, 'included': [<IncludeEnum.embeddings: 'embeddings'>, <IncludeEnum.documents: 'documents'>]}\n"
     ]
    }
   ],
   "source": [
    "#Here check the text to embedding mapping # here we are creating embeddings using openAI\n",
    "print(\"collection 1\", vectorstore_nix._collection.get(ids=['983384c7-d506-4084-964d-403511f3a85a'], include=[\"embeddings\", \"documents\"]))"
   ]
  },
  {
   "cell_type": "code",
   "execution_count": 8,
   "metadata": {
    "id": "l2zziln-8OpG"
   },
   "outputs": [],
   "source": [
    "# RAG pipeline\n",
    "# \"vectorstore\" acts as a retriever\n",
    "\n",
    "retriever = vectorstore_nix.as_retriever()"
   ]
  },
  {
   "cell_type": "code",
   "execution_count": 9,
   "metadata": {
    "colab": {
     "base_uri": "https://localhost:8080/"
    },
    "executionInfo": {
     "elapsed": 186,
     "status": "ok",
     "timestamp": 1748637028628,
     "user": {
      "displayName": "Maithri Rao",
      "userId": "13872893743148841687"
     },
     "user_tz": -120
    },
    "id": "DlE4pGgkf91O",
    "outputId": "45c47b11-1714-453f-dd8e-faaf9a6e275d"
   },
   "outputs": [
    {
     "name": "stderr",
     "output_type": "stream",
     "text": [
      "/nix/store/nhcjjl42qllsff3vg38kf67kg2la254z-python3-3.12.9-env/lib/python3.12/site-packages/langsmith/client.py:253: LangSmithMissingAPIKeyWarning: API key must be provided when using hosted LangSmith API\n",
      "  warnings.warn(\n"
     ]
    }
   ],
   "source": [
    "#Auugmentation\n",
    "# fetch the documents from the vector DB and then along with question whcih is a context send it to the\n",
    "\n",
    "#https://smith.langchain.com/hub/rlm/rag-prompt?organizationId=05726ff1-dd0c-4484-9c9c-cc8927681d12 # prompt from the lanchain hub\n",
    "\n",
    "from langchain import hub\n",
    "prompt = hub.pull(\"rlm/rag-prompt\")"
   ]
  },
  {
   "cell_type": "code",
   "execution_count": 10,
   "metadata": {
    "colab": {
     "base_uri": "https://localhost:8080/"
    },
    "executionInfo": {
     "elapsed": 186,
     "status": "ok",
     "timestamp": 1748637028628,
     "user": {
      "displayName": "Maithri Rao",
      "userId": "13872893743148841687"
     },
     "user_tz": -120
    },
    "id": "DlE4pGgkf91O",
    "outputId": "45c47b11-1714-453f-dd8e-faaf9a6e275d"
   },
   "outputs": [
    {
     "name": "stdout",
     "output_type": "stream",
     "text": [
      "input_variables=['context', 'question'] input_types={} partial_variables={} metadata={'lc_hub_owner': 'rlm', 'lc_hub_repo': 'rag-prompt', 'lc_hub_commit_hash': '50442af133e61576e74536c6556cefe1fac147cad032f4377b60c436e6cdcb6e'} messages=[HumanMessagePromptTemplate(prompt=PromptTemplate(input_variables=['context', 'question'], input_types={}, partial_variables={}, template=\"You are an assistant for question-answering tasks. Use the following pieces of retrieved context to answer the question. If you don't know the answer, just say that you don't know. Use three sentences maximum and keep the answer concise.\\nQuestion: {question} \\nContext: {context} \\nAnswer:\"), additional_kwargs={})]\n"
     ]
    }
   ],
   "source": [
    "print(prompt)"
   ]
  },
  {
   "cell_type": "code",
   "execution_count": 11,
   "metadata": {
    "id": "OqSfLjP_kL4d"
   },
   "outputs": [],
   "source": [
    "#setup LLM\n",
    "from langchain_openai import ChatOpenAI\n",
    "# from langchain_ollama import ChatOllama\n",
    "llm = ChatOpenAI(model=\"gpt-3.5-turbo\") # default model is being used here\n",
    "from langchain_core.runnables import RunnablePassthrough # RunnablePassthrough is used when you want to pass the input as it is.\n",
    "from langchain_core.output_parsers import StrOutputParser # the output from llm has lot of info so to get only the correct content"
   ]
  },
  {
   "cell_type": "code",
   "execution_count": null,
   "metadata": {
    "id": "rYBISp18qszF"
   },
   "outputs": [],
   "source": [
    "from langchain_core.prompts import ChatPromptTemplate, MessagesPlaceholder\n",
    "from langchain_community.chat_message_histories import ChatMessageHistory\n",
    "from langchain_core.runnables.history import RunnableWithMessageHistory"
   ]
  },
  {
   "cell_type": "code",
   "execution_count": null,
   "metadata": {
    "id": "dVbVUgZ0nsof"
   },
   "outputs": [],
   "source": [
    "from langchain.chains import create_history_aware_retriever, create_retrieval_chain\n",
    "\n",
    "### Contextualize question ###\n",
    "contextualize_q_system_prompt = \"\"\"Given a chat history and the latest user question \\\n",
    "which might reference context in the chat history, formulate a standalone question \\\n",
    "which can be understood without the chat history. Do NOT answer the question, \\\n",
    "just reformulate it if needed and otherwise return it as is.\"\"\"\n",
    "\n",
    "contextualize_q_prompt = ChatPromptTemplate.from_messages(\n",
    "    [\n",
    "        (\"system\", contextualize_q_system_prompt),\n",
    "        MessagesPlaceholder(\"chat_history\"),\n",
    "        (\"human\", \"{input}\"),\n",
    "    ]\n",
    ")\n",
    "\n",
    "history_aware_retriever = create_history_aware_retriever(\n",
    "    llm, retriever, contextualize_q_prompt\n",
    ")"
   ]
  },
  {
   "cell_type": "code",
   "execution_count": null,
   "metadata": {
    "colab": {
     "base_uri": "https://localhost:8080/",
     "height": 53
    },
    "executionInfo": {
     "elapsed": 2014,
     "status": "ok",
     "timestamp": 1748637170426,
     "user": {
      "displayName": "Maithri Rao",
      "userId": "13872893743148841687"
     },
     "user_tz": -120
    },
    "id": "voRIe5juuxEH",
    "outputId": "3a31da13-0de4-490c-a64e-aa0d5650156a"
   },
   "outputs": [],
   "source": [
    "from langchain.chains.combine_documents import create_stuff_documents_chain\n",
    "### Answer question ###\n",
    "qa_system_prompt = \"\"\"You are an assistant for question-answering tasks. \\\n",
    "Use the following pieces of retrieved context to answer the question. \\\n",
    "If you don't know the answer, just say that you don't know. \\\n",
    "Use three sentences maximum and keep the answer concise.\\\n",
    "\n",
    "{context}\"\"\"\n",
    "qa_prompt = ChatPromptTemplate.from_messages(\n",
    "    [\n",
    "        (\"system\", qa_system_prompt),\n",
    "        MessagesPlaceholder(\"chat_history\"),\n",
    "        (\"human\", \"{input}\"),\n",
    "    ]\n",
    ")\n",
    "question_answer_chain = create_stuff_documents_chain(llm, qa_prompt)"
   ]
  },
  {
   "cell_type": "code",
   "execution_count": null,
   "metadata": {
    "colab": {
     "base_uri": "https://localhost:8080/",
     "height": 159
    },
    "executionInfo": {
     "elapsed": 3059,
     "status": "error",
     "timestamp": 1748858968192,
     "user": {
      "displayName": "Maithri Rao",
      "userId": "13872893743148841687"
     },
     "user_tz": -120
    },
    "id": "lKhtiHShvAvE",
    "outputId": "e2321c6c-5b6c-401d-87d9-8d8b2ee0df9f"
   },
   "outputs": [],
   "source": [
    "from langchain_core.chat_history import BaseChatMessageHistory\n",
    "rag_chain = create_retrieval_chain(history_aware_retriever, question_answer_chain)\n",
    "\n",
    "\n",
    "### Statefully manage chat history ###\n",
    "store = {}\n",
    "\n",
    "\n",
    "def get_session_history(session_id: str) -> BaseChatMessageHistory:\n",
    "    if session_id not in store:\n",
    "        store[session_id] = ChatMessageHistory()\n",
    "    return store[session_id]\n",
    "\n",
    "\n",
    "conversational_rag_chain = RunnableWithMessageHistory(\n",
    "    rag_chain,\n",
    "    get_session_history,\n",
    "    input_messages_key=\"input\",\n",
    "    history_messages_key=\"chat_history\",\n",
    "    output_messages_key=\"answer\",\n",
    ")"
   ]
  },
  {
   "cell_type": "code",
   "execution_count": null,
   "metadata": {
    "id": "6SOImijQHfYV"
   },
   "outputs": [],
   "source": [
    "### Statefully manage chat history ###\n",
    "store = {}\n",
    "\n",
    "\n",
    "def get_session_history(session_id: str) -> BaseChatMessageHistory:\n",
    "    if session_id not in store:\n",
    "        store[session_id] = ChatMessageHistory()\n",
    "    return store[session_id]\n",
    "\n",
    "\n",
    "conversational_rag_chain = RunnableWithMessageHistory(\n",
    "    rag_chain,\n",
    "    get_session_history,\n",
    "    input_messages_key=\"input\",\n",
    "    history_messages_key=\"chat_history\",\n",
    "    output_messages_key=\"answer\",\n",
    ")"
   ]
  },
  {
   "cell_type": "code",
   "execution_count": null,
   "metadata": {},
   "outputs": [],
   "source": [
    "print(conversational_rag_chain.invoke(\n",
    "    {\"input\": \"what are the best supported platforms?\"},\n",
    "    config={\n",
    "        \"configurable\": {\"session_id\": \"abc123\"}\n",
    "    },\n",
    ")[\"answer\"])"
   ]
  },
  {
   "cell_type": "code",
   "execution_count": null,
   "metadata": {},
   "outputs": [],
   "source": [
    "from pathlib import Path\n",
    "dirname = Path(\"test\")\n",
    "dirname.mkdir(parents=True, exist_ok=False)"
   ]
  },
  {
   "cell_type": "code",
   "execution_count": null,
   "metadata": {},
   "outputs": [],
   "source": [
    "# Make Git ignore the global configurtion files\n",
    "os.environ['GIT_CONFIG_SYSTEM'] = \"/dev/null\"\n",
    "os.environ['GIT_CONFIG_GLOBAL'] = \"/dev/null\"\n",
    "\n",
    "import subprocess\n",
    "# TODO: tell Git a name and email\n",
    "subprocess.run((\"git\", \"init\", \"--initial-branch=main\"), cwd=dirname, check=True)"
   ]
  },
  {
   "cell_type": "code",
   "execution_count": null,
   "metadata": {},
   "outputs": [],
   "source": []
  },
  {
   "cell_type": "code",
   "execution_count": null,
   "metadata": {},
   "outputs": [],
   "source": []
  },
  {
   "cell_type": "code",
   "execution_count": null,
   "metadata": {},
   "outputs": [],
   "source": []
  },
  {
   "cell_type": "code",
   "execution_count": null,
   "metadata": {},
   "outputs": [],
   "source": []
  },
  {
   "cell_type": "code",
   "execution_count": null,
   "metadata": {},
   "outputs": [],
   "source": []
  },
  {
   "cell_type": "markdown",
   "metadata": {
    "id": "kuFLwMVWoqtH"
   },
   "source": []
  },
  {
   "cell_type": "code",
   "execution_count": null,
   "metadata": {},
   "outputs": [],
   "source": []
  }
 ],
 "metadata": {
  "colab": {
   "authorship_tag": "ABX9TyNNLT+oOarZqEwqxkzuxY5o",
   "provenance": []
  },
  "kernelspec": {
   "display_name": "Python 3 (ipykernel)",
   "language": "python",
   "name": "python3"
  },
  "language_info": {
   "codemirror_mode": {
    "name": "ipython",
    "version": 3
   },
   "file_extension": ".py",
   "mimetype": "text/x-python",
   "name": "python",
   "nbconvert_exporter": "python",
   "pygments_lexer": "ipython3",
   "version": "3.12.9"
  }
 },
 "nbformat": 4,
 "nbformat_minor": 4
}
