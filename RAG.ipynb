{
 "cells": [
  {
   "cell_type": "code",
   "execution_count": null,
   "metadata": {},
   "outputs": [],
   "source": [
    "# Imports\n",
    "import os\n",
    "import re\n",
    "import json\n",
    "import subprocess\n",
    "from pathlib import Path\n",
    "from langchain_ollama import ChatOllama\n",
    "from langchain_core.runnables import RunnablePassthrough # RunnablePassthrough is used when you want to pass the input as it is.\n",
    "from langchain_core.output_parsers import StrOutputParser # the output from llm has lot of info so to get only the correct content\n",
    "from langchain_core.prompts import ChatPromptTemplate, MessagesPlaceholder\n",
    "from langchain_community.chat_message_histories import ChatMessageHistory\n",
    "from langchain_core.runnables.history import RunnableWithMessageHistory\n",
    "from langchain.chains import create_history_aware_retriever, create_retrieval_chain"
   ]
  },
  {
   "cell_type": "code",
   "execution_count": null,
   "metadata": {},
   "outputs": [],
   "source": [
    "#setup LLM\n",
    "llm = ChatOllama(model=\"mistral-nemo:12b-instruct-2407-q8_0\")"
   ]
  },
  {
   "cell_type": "code",
   "execution_count": null,
   "metadata": {},
   "outputs": [],
   "source": [
    "from langchain.chains.combine_documents import create_stuff_documents_chain\n",
    "### Answer question ###\n",
    "qa_system_prompt = \"\"\"You are an assistant for question-answering tasks. \\\n",
    "Use the following pieces of retrieved context to answer the question. \\\n",
    "If you don't know the answer, just say that you don't know. \\\n",
    "Use three sentences maximum and keep the answer concise.\\\n",
    "\n",
    "{context}\"\"\"\n",
    "qa_prompt = ChatPromptTemplate.from_messages(\n",
    "    [\n",
    "        (\"system\", qa_system_prompt),\n",
    "        MessagesPlaceholder(\"chat_history\"),\n",
    "        (\"human\", \"{input}\"),\n",
    "    ]\n",
    ")\n",
    "question_answer_chain = create_stuff_documents_chain(llm, qa_prompt)"
   ]
  },
  {
   "cell_type": "code",
   "execution_count": null,
   "metadata": {},
   "outputs": [],
   "source": [
    "from langchain_core.chat_history import BaseChatMessageHistory\n",
    "rag_chain = create_retrieval_chain(history_aware_retriever, question_answer_chain)\n",
    "\n",
    "\n",
    "### Statefully manage chat history ###\n",
    "store = {}\n",
    "\n",
    "\n",
    "def get_session_history(session_id: str) -> BaseChatMessageHistory:\n",
    "    if session_id not in store:\n",
    "        store[session_id] = ChatMessageHistory()\n",
    "    return store[session_id]\n",
    "\n",
    "\n",
    "conversational_rag_chain = RunnableWithMessageHistory(\n",
    "    rag_chain,\n",
    "    get_session_history,\n",
    "    input_messages_key=\"input\",\n",
    "    history_messages_key=\"chat_history\",\n",
    "    output_messages_key=\"answer\",\n",
    ")"
   ]
  },
  {
   "cell_type": "code",
   "execution_count": null,
   "metadata": {},
   "outputs": [],
   "source": [
    "### Statefully manage chat history ###\n",
    "store = {}\n",
    "\n",
    "\n",
    "def get_session_history(session_id: str) -> BaseChatMessageHistory:\n",
    "    if session_id not in store:\n",
    "        store[session_id] = ChatMessageHistory()\n",
    "    return store[session_id]\n",
    "\n",
    "\n",
    "conversational_rag_chain = RunnableWithMessageHistory(\n",
    "    rag_chain,\n",
    "    get_session_history,\n",
    "    input_messages_key=\"input\",\n",
    "    history_messages_key=\"chat_history\",\n",
    "    output_messages_key=\"answer\",\n",
    ")"
   ]
  },
  {
   "cell_type": "code",
   "execution_count": null,
   "metadata": {},
   "outputs": [],
   "source": [
    "print(conversational_rag_chain.invoke(\n",
    "    {\"input\": \"what are the best supported platforms?\"},\n",
    "    config={\n",
    "        \"configurable\": {\"session_id\": \"abc123\"}\n",
    "    },\n",
    ")[\"answer\"])"
   ]
  },
  {
   "cell_type": "code",
   "execution_count": null,
   "metadata": {},
   "outputs": [],
   "source": [
    "dirname = Path(\"output\")"
   ]
  },
  {
   "cell_type": "code",
   "execution_count": null,
   "metadata": {},
   "outputs": [],
   "source": [
    "dirname.mkdir(parents=True, exist_ok=True)"
   ]
  },
  {
   "cell_type": "code",
   "execution_count": null,
   "metadata": {},
   "outputs": [],
   "source": [
    "# Make Git ignore the global configurtion files\n",
    "os.environ['GIT_CONFIG_SYSTEM'] = \"/dev/null\"\n",
    "os.environ['GIT_CONFIG_GLOBAL'] = \"/dev/null\""
   ]
  },
  {
   "cell_type": "code",
   "execution_count": null,
   "metadata": {},
   "outputs": [],
   "source": [
    "subprocess.run((\"git\", \"init\", \"--initial-branch=main\"), cwd=dirname, check=True)"
   ]
  },
  {
   "cell_type": "code",
   "execution_count": null,
   "metadata": {},
   "outputs": [],
   "source": [
    "_ = subprocess.run((\"git\", \"config\", \"user.name\", \"TODO\"), cwd=dirname, check=True)"
   ]
  },
  {
   "cell_type": "code",
   "execution_count": null,
   "metadata": {},
   "outputs": [],
   "source": [
    "_ = subprocess.run((\"git\", \"config\", \"user.email\", \"\"), cwd=dirname, check=True)"
   ]
  },
  {
   "cell_type": "code",
   "execution_count": null,
   "metadata": {},
   "outputs": [],
   "source": [
    "# TODO: don't hardcode\n",
    "#project_name = \"findtow\" # https://git.sr.ht/~martijnbraam/findtow\n",
    "#project_name = \"gResistor\" # https://github.com/stethewwolf/gResistor\n",
    "project_name = \"postmarketos-tweaks\" # https://gitlab.postmarketos.org/postmarketOS/postmarketos-tweaks"
   ]
  },
  {
   "cell_type": "code",
   "execution_count": null,
   "metadata": {},
   "outputs": [],
   "source": [
    "_ = subprocess.run((\"git\", \"checkout\", \"--orphan\", project_name), cwd=dirname, check=True)\n",
    "_ = subprocess.run((\"git\", \"rm\", \"-rf\", \".\"), cwd=dirname, check=False) # Ignore failures that happen when there are no files"
   ]
  },
  {
   "cell_type": "code",
   "execution_count": null,
   "metadata": {},
   "outputs": [],
   "source": [
    "# Now please run nix-init inside of the output directory\n",
    "# TODO: pin Nixpkgs revision to the one used by this flake"
   ]
  },
  {
   "cell_type": "code",
   "execution_count": null,
   "metadata": {},
   "outputs": [],
   "source": [
    "nix_file = dirname / \"default.nix\"\n",
    "if not os.path.isfile(nix_file):\n",
    "    if not os.path.isfile(\"default.nix\"):\n",
    "        raise Exception(\"default.nix not found, please run nix-init inside of the output directory.\")\n",
    "    else:\n",
    "        raise Exception(\"Make sure to run nix-init inside of the output directory, not inside the root of the project!\")"
   ]
  },
  {
   "cell_type": "code",
   "execution_count": null,
   "metadata": {},
   "outputs": [],
   "source": [
    "subprocess.run((\"git\", \"add\", \"--all\"), cwd=dirname, check=True)"
   ]
  },
  {
   "cell_type": "code",
   "execution_count": null,
   "metadata": {},
   "outputs": [],
   "source": [
    "subprocess.run((\"git\", \"commit\", \"-m\", \"Run nix-init\"), cwd=dirname, check=True)"
   ]
  },
  {
   "cell_type": "code",
   "execution_count": null,
   "metadata": {},
   "outputs": [],
   "source": [
    "# TODO: run nix-format after every step"
   ]
  },
  {
   "cell_type": "code",
   "execution_count": null,
   "metadata": {},
   "outputs": [],
   "source": [
    "# TODO: debug Nix why this has no effect when --log-format is internal-json\n",
    "os.environ['NO_COLOR'] = \"\""
   ]
  },
  {
   "cell_type": "code",
   "execution_count": null,
   "metadata": {},
   "outputs": [],
   "source": [
    "build_result = subprocess.run((\"nix-build\", \"--no-out-link\", \"--log-format\", \"internal-json\", \"-E\", \"(import <nixpkgs> { }).callPackage ./. { }\"), capture_output=True, encoding='utf-8', cwd=dirname, check=False)"
   ]
  },
  {
   "cell_type": "code",
   "execution_count": null,
   "metadata": {},
   "outputs": [],
   "source": [
    "# Analyze output\n",
    "\n",
    "ansi_escape = re.compile(r'\\x1B(?:[@-Z\\\\-_]|\\[[0-?]*[ -/]*[@-~])')\n",
    "\n",
    "if build_result.returncode == 0:\n",
    "    print(\"The nix-build command succeeded 🎉\")\n",
    "else:\n",
    "    print(\"The nix-build command failed, let's see what the error was.\")\n",
    "    print(build_result.stdout)\n",
    "    for line in build_result.stderr.split(\"\\n\"):\n",
    "        if line == \"\":\n",
    "            continue\n",
    "        prefix = \"@nix \"\n",
    "        assert line.startswith(prefix), f\"Line does not start with @nix : {line}\"\n",
    "        line = line.lstrip(prefix)\n",
    "        parsed = json.loads(line)\n",
    "        assert \"action\" in parsed, f\"Nix JSON output does not have an action key: {parsed}\"\n",
    "        if parsed[\"action\"] != \"msg\":\n",
    "            continue\n",
    "        assert \"msg\" in parsed, f\"Nix JSON output does not have a msg key: {parsed}\"\n",
    "        if parsed[\"msg\"].startswith(\"fetching path input \"):\n",
    "            continue\n",
    "        #print(parsed)\n",
    "        if \"raw_msg\" in parsed:\n",
    "            error_message = parsed[\"raw_msg\"]\n",
    "            derivation_path_search = re.search('For full logs, run:\\n  nix log (/nix/store/.*.drv)', error_message)\n",
    "            if derivation_path_search:\n",
    "                derivation_path = derivation_path_search.group(1)\n",
    "                # TODO: teach nix log to respect the NO_COLOR environment variable\n",
    "                error_message = subprocess.run((\"nix\", \"log\", derivation_path), capture_output=True, encoding='utf-8', cwd=dirname, check=True).stdout\n",
    "                # From https://stackoverflow.com/a/14693789\n",
    "            error_message = ansi_escape.sub('', error_message)\n",
    "            print(error_message)\n",
    "\n",
    "\n",
    "# TODO: find instances of the absolute path to the current directory and rewrite them\n",
    "# TODO: special-case errors like evaluation aborted with the following error message:\n",
    "# 'lib.customisation.callPackageWith: Function called without required argument \"libblkid\" at /home/u/Dokumente/repos/RAG-with-Langchain/output/default.nix:8'\n",
    "# to provide some help to the LLM\n",
    "# TODO: validate syntax and help the model if it is wrong\n",
    "# TODO: detect if the model ever outputs the same diff twice and tell the model\n",
    "# TODO: detect if the error message is the same as before and tell the model that the suggestion did not fix the error\n",
    "# TODO: take existing derivations from Nixpkgs and modify them, e.g. by deleting lines. Then fine-tune an LLM with the error messages\n",
    "# TODO: prompt the model to tell if thinks that a dependency is missing and then use something like search.nixos.org but lokal (maybe nix-index) to search for it, then tell the model which dependency to add\n",
    "# TODO: Run multiple different models at each step and compare\n",
    "# TODO: detect changes that the LLM should not make, such as changing the hash and revert them\n",
    "# TODO: if the model does not support reasoning, first ask the model for suggestions on fixing the error, then asking it to implement those suggestions\n"
   ]
  },
  {
   "cell_type": "code",
   "execution_count": null,
   "metadata": {},
   "outputs": [],
   "source": []
  }
 ],
 "metadata": {
  "language_info": {
   "name": "python"
  }
 },
 "nbformat": 4,
 "nbformat_minor": 4
}
